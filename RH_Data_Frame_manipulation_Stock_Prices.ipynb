{
 "cells": [
  {
   "cell_type": "markdown",
   "metadata": {},
   "source": [
    "# HW3"
   ]
  },
  {
   "cell_type": "markdown",
   "metadata": {},
   "source": [
    "<b>Instructions:</b> Write your answers in the empty code cells below."
   ]
  },
  {
   "cell_type": "markdown",
   "metadata": {},
   "source": [
    "<b>Penalties:</b> You will incur penalties if:\n",
    "<ul>\n",
    "<li>Your code is wrong</li>\n",
    "<li>Your code does not work on different data</li>\n",
    "<li>You use for loops (unless explicitly permitted)</li>\n",
    "</ul>"
   ]
  },
  {
   "cell_type": "markdown",
   "metadata": {},
   "source": [
    "## Problem"
   ]
  },
  {
   "cell_type": "markdown",
   "metadata": {},
   "source": [
    "Start by executing the following code, which creates a Series object <b>stock</b> of share prices of Nvidia. "
   ]
  },
  {
   "cell_type": "code",
   "execution_count": 1,
   "metadata": {},
   "outputs": [
    {
     "data": {
      "application/javascript": [
       "IPython.notebook.set_autosave_interval(60000)"
      ]
     },
     "metadata": {},
     "output_type": "display_data"
    },
    {
     "name": "stdout",
     "output_type": "stream",
     "text": [
      "Autosaving every 60 seconds\n"
     ]
    }
   ],
   "source": [
    "autosave 60"
   ]
  },
  {
   "cell_type": "code",
   "execution_count": 2,
   "metadata": {},
   "outputs": [],
   "source": [
    "import pandas as pd\n",
    "import numpy as np\n",
    "data = pd.read_csv('NVDA.csv',index_col=0, parse_dates=True)\n",
    "#data = pd.read_csv('NVDA.csv',index_col=0)\n",
    "#data.index=data1.index.astype('datetime64[ns]')\n",
    "#kept stock as redundant variable\n",
    "stock = data['Close']"
   ]
  },
  {
   "cell_type": "code",
   "execution_count": 3,
   "metadata": {},
   "outputs": [],
   "source": [
    "# print all the outputs in a cell\n",
    "from IPython.core.interactiveshell import InteractiveShell\n",
    "InteractiveShell.ast_node_interactivity = \"all\""
   ]
  },
  {
   "cell_type": "code",
   "execution_count": 4,
   "metadata": {},
   "outputs": [],
   "source": [
    "#Set to 2 decimal places, and display all columns (and up to 300 rows)\n",
    "pd.set_option('display.float_format', lambda x: '%.2f' % x)\n",
    "pd.set_option('display.max_columns', None)\n",
    "#pd.set_option('display.max_rows', 300)"
   ]
  },
  {
   "cell_type": "code",
   "execution_count": 5,
   "metadata": {},
   "outputs": [
    {
     "name": "stdout",
     "output_type": "stream",
     "text": [
      "%pylab is deprecated, use %matplotlib inline and import the required libraries.\n",
      "Populating the interactive namespace from numpy and matplotlib\n"
     ]
    },
    {
     "data": {
      "text/plain": [
       "<AxesSubplot:xlabel='Date'>"
      ]
     },
     "execution_count": 5,
     "metadata": {},
     "output_type": "execute_result"
    },
    {
     "data": {
      "image/png": "[encoded data removed]",
      "text/plain": [
       "<Figure size 432x288 with 1 Axes>"
      ]
     },
     "metadata": {
      "needs_background": "light"
     },
     "output_type": "display_data"
    }
   ],
   "source": [
    "%pylab inline\n",
    "stock.plot()"
   ]
  },
  {
   "cell_type": "code",
   "execution_count": 6,
   "metadata": {},
   "outputs": [
    {
     "data": {
      "text/plain": [
       "Date\n",
       "1999-01-22   0.41\n",
       "1999-01-25   0.45\n",
       "1999-01-26   0.42\n",
       "1999-01-27   0.42\n",
       "1999-01-28   0.42\n",
       "Name: Close, dtype: float64"
      ]
     },
     "execution_count": 6,
     "metadata": {},
     "output_type": "execute_result"
    },
    {
     "data": {
      "text/plain": [
       "Date\n",
       "2021-10-07   210.75\n",
       "2021-10-08   208.31\n",
       "2021-10-11   206.95\n",
       "2021-10-12   206.71\n",
       "2021-10-13   209.39\n",
       "Name: Close, dtype: float64"
      ]
     },
     "execution_count": 6,
     "metadata": {},
     "output_type": "execute_result"
    }
   ],
   "source": [
    "stock.head()\n",
    "stock.tail()"
   ]
  },
  {
   "cell_type": "markdown",
   "metadata": {},
   "source": [
    "Use the Series <i>stock</i> to answer the following questions."
   ]
  },
  {
   "cell_type": "markdown",
   "metadata": {},
   "source": [
    "## Question 1"
   ]
  },
  {
   "cell_type": "markdown",
   "metadata": {},
   "source": [
    "### Q1.1, When is the first date this sotck close at more than 130 dollars? (pick the closest date in Camino)"
   ]
  },
  {
   "cell_type": "code",
   "execution_count": 7,
   "metadata": {},
   "outputs": [],
   "source": [
    "starting_date = stock[stock.values > 130].index.min()"
   ]
  },
  {
   "cell_type": "code",
   "execution_count": 8,
   "metadata": {
    "scrolled": true
   },
   "outputs": [
    {
     "data": {
      "text/plain": [
       "Timestamp('2020-08-28 00:00:00')"
      ]
     },
     "execution_count": 8,
     "metadata": {},
     "output_type": "execute_result"
    }
   ],
   "source": [
    "starting_date"
   ]
  },
  {
   "cell_type": "markdown",
   "metadata": {},
   "source": [
    "### Q1.2, After stock price hit 130 dollar, how many trading days it took to reach the historical high? (pick the closest number of days in Camino)"
   ]
  },
  {
   "cell_type": "code",
   "execution_count": 9,
   "metadata": {},
   "outputs": [],
   "source": [
    "high_date = stock[stock.values == stock.values.max()].index.min()"
   ]
  },
  {
   "cell_type": "code",
   "execution_count": 10,
   "metadata": {},
   "outputs": [
    {
     "data": {
      "text/plain": [
       "257"
      ]
     },
     "execution_count": 10,
     "metadata": {},
     "output_type": "execute_result"
    }
   ],
   "source": [
    "#based on the \"Close\" column\n",
    "len(data[(data.index >= starting_date) & (data.index <= high_date)])"
   ]
  },
  {
   "cell_type": "code",
   "execution_count": 11,
   "metadata": {},
   "outputs": [
    {
     "name": "stdout",
     "output_type": "stream",
     "text": [
      "Number of trading days after reaching 130 to reach historical high (close): 257\n"
     ]
    }
   ],
   "source": [
    "print('Number of trading days after reaching 130 to reach historical high (close): '\\\n",
    "      + str(len(data[(data.index >= starting_date) & (data.index <= high_date)])))"
   ]
  },
  {
   "cell_type": "markdown",
   "metadata": {},
   "source": [
    "### Question 2"
   ]
  },
  {
   "cell_type": "markdown",
   "metadata": {},
   "source": [
    "### Find the top 5 largest one-day % gain (in % compared to the closing cost of the previous trading day). Make sure that your output is a Series object that shows both date and the % gain. (pick the date closest to the day with the largest gain ratio in Camino)"
   ]
  },
  {
   "cell_type": "code",
   "execution_count": 12,
   "metadata": {
    "scrolled": true
   },
   "outputs": [],
   "source": [
    "percent_change = [(stock - stock.shift(-1))/(stock)] * 100"
   ]
  },
  {
   "cell_type": "code",
   "execution_count": 13,
   "metadata": {},
   "outputs": [],
   "source": [
    "data['previous_close'] = data['Close'].shift(1)"
   ]
  },
  {
   "cell_type": "code",
   "execution_count": 14,
   "metadata": {},
   "outputs": [],
   "source": [
    "data['percent_change'] = (data['Close'] - data['previous_close'])/(data['previous_close'])*100"
   ]
  },
  {
   "cell_type": "code",
   "execution_count": 15,
   "metadata": {
    "scrolled": true
   },
   "outputs": [],
   "source": [
    "top_gains = data.sort_values('percent_change', ascending = False).head(5)['percent_change']"
   ]
  },
  {
   "cell_type": "code",
   "execution_count": 16,
   "metadata": {},
   "outputs": [
    {
     "data": {
      "text/plain": [
       "Date\n",
       "2000-03-07   42.41\n",
       "2003-05-09   33.06\n",
       "2001-01-03   30.69\n",
       "2016-11-11   29.81\n",
       "2000-03-13   26.48\n",
       "Name: percent_change, dtype: float64"
      ]
     },
     "execution_count": 16,
     "metadata": {},
     "output_type": "execute_result"
    }
   ],
   "source": [
    "top_gains"
   ]
  },
  {
   "cell_type": "markdown",
   "metadata": {},
   "source": [
    "## Question 3"
   ]
  },
  {
   "cell_type": "markdown",
   "metadata": {},
   "source": [
    "###  With following investment strategy: buy on day 1, sell on day 3. If based on this strategy, what's the most dollars amount you can lose in one trading?  Also report the buying and selling date for that particular trade. ( pick the closest dollar amount it dropped in Camino)"
   ]
  },
  {
   "cell_type": "code",
   "execution_count": 17,
   "metadata": {},
   "outputs": [],
   "source": [
    "data['sale_difference'] = data['Close'].diff(periods=2)"
   ]
  },
  {
   "cell_type": "code",
   "execution_count": 18,
   "metadata": {},
   "outputs": [
    {
     "data": {
      "text/plain": [
       "-17.919997999999993"
      ]
     },
     "execution_count": 18,
     "metadata": {},
     "output_type": "execute_result"
    }
   ],
   "source": [
    "#Most one can lose in one trading day\n",
    "data['sale_difference'].min()"
   ]
  },
  {
   "cell_type": "code",
   "execution_count": 19,
   "metadata": {},
   "outputs": [],
   "source": [
    "sell_date = data['sale_difference'].idxmin()"
   ]
  },
  {
   "cell_type": "code",
   "execution_count": 20,
   "metadata": {},
   "outputs": [
    {
     "data": {
      "text/plain": [
       "Timestamp('2020-11-10 00:00:00')"
      ]
     },
     "execution_count": 20,
     "metadata": {},
     "output_type": "execute_result"
    }
   ],
   "source": [
    "#sell date\n",
    "sell_date"
   ]
  },
  {
   "cell_type": "code",
   "execution_count": 21,
   "metadata": {},
   "outputs": [
    {
     "data": {
      "text/plain": [
       "Timestamp('2020-11-06 00:00:00')"
      ]
     },
     "execution_count": 21,
     "metadata": {},
     "output_type": "execute_result"
    }
   ],
   "source": [
    "#buy date\n",
    "stock[stock.index<=sell_date].index[-3]"
   ]
  },
  {
   "cell_type": "markdown",
   "metadata": {},
   "source": [
    "## Question 4"
   ]
  },
  {
   "cell_type": "markdown",
   "metadata": {},
   "source": [
    "### In which days did we observe that the price has increased of more than 60% within the 9 preceding trading sessions? Report your result as a Series (d,gain) where *d* is the trading session date when the increase was observed and *gain* is the maximum percentage gain (%) observed over the 9 days preceding session(today compare with previous 9 trading days).\n",
    "#### *Hint:* use a **rolling** minimum . Today + 9 more days -> use rolling(10). (pick the closest date that has the highest gain ratio in Camino) "
   ]
  },
  {
   "cell_type": "code",
   "execution_count": 22,
   "metadata": {},
   "outputs": [],
   "source": [
    "future_price = stock.rolling(10).min()"
   ]
  },
  {
   "cell_type": "code",
   "execution_count": 23,
   "metadata": {},
   "outputs": [],
   "source": [
    "data['buying_price'] = data['Close'].rolling(10).min()"
   ]
  },
  {
   "cell_type": "code",
   "execution_count": 24,
   "metadata": {},
   "outputs": [],
   "source": [
    "#High - 9 day minimum buying price / buying price\n",
    "data['nine_day_gain'] = (data['Close'] - data['buying_price']) / data['buying_price'] * 100"
   ]
  },
  {
   "cell_type": "code",
   "execution_count": 25,
   "metadata": {
    "scrolled": false
   },
   "outputs": [
    {
     "data": {
      "text/html": [
       "<div>\n",
       "<style scoped>\n",
       "    .dataframe tbody tr th:only-of-type {\n",
       "        vertical-align: middle;\n",
       "    }\n",
       "\n",
       "    .dataframe tbody tr th {\n",
       "        vertical-align: top;\n",
       "    }\n",
       "\n",
       "    .dataframe thead th {\n",
       "        text-align: right;\n",
       "    }\n",
       "</style>\n",
       "<table border=\"1\" class=\"dataframe\">\n",
       "  <thead>\n",
       "    <tr style=\"text-align: right;\">\n",
       "      <th></th>\n",
       "      <th>Open</th>\n",
       "      <th>High</th>\n",
       "      <th>Low</th>\n",
       "      <th>Close</th>\n",
       "      <th>Adj Close</th>\n",
       "      <th>Volume</th>\n",
       "      <th>previous_close</th>\n",
       "      <th>percent_change</th>\n",
       "      <th>sale_difference</th>\n",
       "      <th>buying_price</th>\n",
       "      <th>nine_day_gain</th>\n",
       "    </tr>\n",
       "    <tr>\n",
       "      <th>Date</th>\n",
       "      <th></th>\n",
       "      <th></th>\n",
       "      <th></th>\n",
       "      <th></th>\n",
       "      <th></th>\n",
       "      <th></th>\n",
       "      <th></th>\n",
       "      <th></th>\n",
       "      <th></th>\n",
       "      <th></th>\n",
       "      <th></th>\n",
       "    </tr>\n",
       "  </thead>\n",
       "  <tbody>\n",
       "    <tr>\n",
       "      <th>2000-02-18</th>\n",
       "      <td>1.24</td>\n",
       "      <td>1.42</td>\n",
       "      <td>1.23</td>\n",
       "      <td>1.40</td>\n",
       "      <td>1.29</td>\n",
       "      <td>96086400</td>\n",
       "      <td>1.26</td>\n",
       "      <td>11.59</td>\n",
       "      <td>0.19</td>\n",
       "      <td>0.79</td>\n",
       "      <td>77.01</td>\n",
       "    </tr>\n",
       "    <tr>\n",
       "      <th>2000-02-22</th>\n",
       "      <td>1.36</td>\n",
       "      <td>1.38</td>\n",
       "      <td>1.31</td>\n",
       "      <td>1.36</td>\n",
       "      <td>1.25</td>\n",
       "      <td>54249600</td>\n",
       "      <td>1.40</td>\n",
       "      <td>-2.78</td>\n",
       "      <td>0.11</td>\n",
       "      <td>0.83</td>\n",
       "      <td>64.26</td>\n",
       "    </tr>\n",
       "    <tr>\n",
       "      <th>2000-02-23</th>\n",
       "      <td>1.35</td>\n",
       "      <td>1.39</td>\n",
       "      <td>1.33</td>\n",
       "      <td>1.37</td>\n",
       "      <td>1.26</td>\n",
       "      <td>51139200</td>\n",
       "      <td>1.36</td>\n",
       "      <td>0.57</td>\n",
       "      <td>-0.03</td>\n",
       "      <td>0.85</td>\n",
       "      <td>61.16</td>\n",
       "    </tr>\n",
       "    <tr>\n",
       "      <th>2000-03-09</th>\n",
       "      <td>1.77</td>\n",
       "      <td>2.25</td>\n",
       "      <td>1.77</td>\n",
       "      <td>2.09</td>\n",
       "      <td>1.92</td>\n",
       "      <td>95294400</td>\n",
       "      <td>1.75</td>\n",
       "      <td>19.40</td>\n",
       "      <td>0.35</td>\n",
       "      <td>1.21</td>\n",
       "      <td>73.11</td>\n",
       "    </tr>\n",
       "    <tr>\n",
       "      <th>2000-03-10</th>\n",
       "      <td>2.20</td>\n",
       "      <td>3.02</td>\n",
       "      <td>2.18</td>\n",
       "      <td>2.46</td>\n",
       "      <td>2.26</td>\n",
       "      <td>216120000</td>\n",
       "      <td>2.09</td>\n",
       "      <td>17.65</td>\n",
       "      <td>0.71</td>\n",
       "      <td>1.21</td>\n",
       "      <td>103.67</td>\n",
       "    </tr>\n",
       "    <tr>\n",
       "      <th>2000-03-13</th>\n",
       "      <td>2.23</td>\n",
       "      <td>3.12</td>\n",
       "      <td>2.21</td>\n",
       "      <td>3.11</td>\n",
       "      <td>2.86</td>\n",
       "      <td>241516800</td>\n",
       "      <td>2.46</td>\n",
       "      <td>26.48</td>\n",
       "      <td>1.02</td>\n",
       "      <td>1.21</td>\n",
       "      <td>157.61</td>\n",
       "    </tr>\n",
       "    <tr>\n",
       "      <th>2000-03-14</th>\n",
       "      <td>3.09</td>\n",
       "      <td>3.09</td>\n",
       "      <td>2.25</td>\n",
       "      <td>2.29</td>\n",
       "      <td>2.11</td>\n",
       "      <td>156777600</td>\n",
       "      <td>3.11</td>\n",
       "      <td>-26.21</td>\n",
       "      <td>-0.16</td>\n",
       "      <td>1.21</td>\n",
       "      <td>90.08</td>\n",
       "    </tr>\n",
       "    <tr>\n",
       "      <th>2000-03-15</th>\n",
       "      <td>2.46</td>\n",
       "      <td>2.52</td>\n",
       "      <td>2.12</td>\n",
       "      <td>2.20</td>\n",
       "      <td>2.02</td>\n",
       "      <td>99561600</td>\n",
       "      <td>2.29</td>\n",
       "      <td>-4.09</td>\n",
       "      <td>-0.91</td>\n",
       "      <td>1.21</td>\n",
       "      <td>82.31</td>\n",
       "    </tr>\n",
       "    <tr>\n",
       "      <th>2000-03-16</th>\n",
       "      <td>2.27</td>\n",
       "      <td>2.35</td>\n",
       "      <td>1.93</td>\n",
       "      <td>1.96</td>\n",
       "      <td>1.80</td>\n",
       "      <td>75038400</td>\n",
       "      <td>2.20</td>\n",
       "      <td>-10.84</td>\n",
       "      <td>-0.33</td>\n",
       "      <td>1.22</td>\n",
       "      <td>60.98</td>\n",
       "    </tr>\n",
       "    <tr>\n",
       "      <th>2000-03-17</th>\n",
       "      <td>1.92</td>\n",
       "      <td>2.23</td>\n",
       "      <td>1.92</td>\n",
       "      <td>2.08</td>\n",
       "      <td>1.91</td>\n",
       "      <td>55761600</td>\n",
       "      <td>1.96</td>\n",
       "      <td>6.06</td>\n",
       "      <td>-0.12</td>\n",
       "      <td>1.22</td>\n",
       "      <td>70.73</td>\n",
       "    </tr>\n",
       "    <tr>\n",
       "      <th>2001-01-11</th>\n",
       "      <td>1.80</td>\n",
       "      <td>2.08</td>\n",
       "      <td>1.77</td>\n",
       "      <td>2.00</td>\n",
       "      <td>1.84</td>\n",
       "      <td>44764800</td>\n",
       "      <td>1.85</td>\n",
       "      <td>8.32</td>\n",
       "      <td>0.27</td>\n",
       "      <td>1.25</td>\n",
       "      <td>60.33</td>\n",
       "    </tr>\n",
       "    <tr>\n",
       "      <th>2001-10-12</th>\n",
       "      <td>3.08</td>\n",
       "      <td>3.38</td>\n",
       "      <td>3.07</td>\n",
       "      <td>3.37</td>\n",
       "      <td>3.10</td>\n",
       "      <td>125310000</td>\n",
       "      <td>3.16</td>\n",
       "      <td>6.51</td>\n",
       "      <td>0.52</td>\n",
       "      <td>1.99</td>\n",
       "      <td>69.30</td>\n",
       "    </tr>\n",
       "    <tr>\n",
       "      <th>2001-10-15</th>\n",
       "      <td>3.27</td>\n",
       "      <td>3.46</td>\n",
       "      <td>3.18</td>\n",
       "      <td>3.35</td>\n",
       "      <td>3.08</td>\n",
       "      <td>90856800</td>\n",
       "      <td>3.37</td>\n",
       "      <td>-0.45</td>\n",
       "      <td>0.19</td>\n",
       "      <td>1.99</td>\n",
       "      <td>68.55</td>\n",
       "    </tr>\n",
       "  </tbody>\n",
       "</table>\n",
       "</div>"
      ],
      "text/plain": [
       "            Open  High  Low  Close  Adj Close     Volume  previous_close  \\\n",
       "Date                                                                       \n",
       "2000-02-18  1.24  1.42 1.23   1.40       1.29   96086400            1.26   \n",
       "2000-02-22  1.36  1.38 1.31   1.36       1.25   54249600            1.40   \n",
       "2000-02-23  1.35  1.39 1.33   1.37       1.26   51139200            1.36   \n",
       "2000-03-09  1.77  2.25 1.77   2.09       1.92   95294400            1.75   \n",
       "2000-03-10  2.20  3.02 2.18   2.46       2.26  216120000            2.09   \n",
       "2000-03-13  2.23  3.12 2.21   3.11       2.86  241516800            2.46   \n",
       "2000-03-14  3.09  3.09 2.25   2.29       2.11  156777600            3.11   \n",
       "2000-03-15  2.46  2.52 2.12   2.20       2.02   99561600            2.29   \n",
       "2000-03-16  2.27  2.35 1.93   1.96       1.80   75038400            2.20   \n",
       "2000-03-17  1.92  2.23 1.92   2.08       1.91   55761600            1.96   \n",
       "2001-01-11  1.80  2.08 1.77   2.00       1.84   44764800            1.85   \n",
       "2001-10-12  3.08  3.38 3.07   3.37       3.10  125310000            3.16   \n",
       "2001-10-15  3.27  3.46 3.18   3.35       3.08   90856800            3.37   \n",
       "\n",
       "            percent_change  sale_difference  buying_price  nine_day_gain  \n",
       "Date                                                                      \n",
       "2000-02-18           11.59             0.19          0.79          77.01  \n",
       "2000-02-22           -2.78             0.11          0.83          64.26  \n",
       "2000-02-23            0.57            -0.03          0.85          61.16  \n",
       "2000-03-09           19.40             0.35          1.21          73.11  \n",
       "2000-03-10           17.65             0.71          1.21         103.67  \n",
       "2000-03-13           26.48             1.02          1.21         157.61  \n",
       "2000-03-14          -26.21            -0.16          1.21          90.08  \n",
       "2000-03-15           -4.09            -0.91          1.21          82.31  \n",
       "2000-03-16          -10.84            -0.33          1.22          60.98  \n",
       "2000-03-17            6.06            -0.12          1.22          70.73  \n",
       "2001-01-11            8.32             0.27          1.25          60.33  \n",
       "2001-10-12            6.51             0.52          1.99          69.30  \n",
       "2001-10-15           -0.45             0.19          1.99          68.55  "
      ]
     },
     "execution_count": 25,
     "metadata": {},
     "output_type": "execute_result"
    }
   ],
   "source": [
    "data[data.nine_day_gain > 60]"
   ]
  },
  {
   "cell_type": "code",
   "execution_count": 26,
   "metadata": {
    "scrolled": true
   },
   "outputs": [
    {
     "data": {
      "text/plain": [
       "Date\n",
       "2000-03-13   157.61\n",
       "Name: nine_day_gain, dtype: float64"
      ]
     },
     "execution_count": 26,
     "metadata": {},
     "output_type": "execute_result"
    }
   ],
   "source": [
    "#date with the largest gain\n",
    "data['nine_day_gain'].nlargest(1)"
   ]
  },
  {
   "cell_type": "code",
   "execution_count": 27,
   "metadata": {},
   "outputs": [],
   "source": [
    "percent_gain_max = data[data.nine_day_gain > 60]['nine_day_gain']"
   ]
  },
  {
   "cell_type": "code",
   "execution_count": 28,
   "metadata": {},
   "outputs": [
    {
     "data": {
      "text/plain": [
       "Date\n",
       "2000-02-18    77.01\n",
       "2000-02-22    64.26\n",
       "2000-02-23    61.16\n",
       "2000-03-09    73.11\n",
       "2000-03-10   103.67\n",
       "2000-03-13   157.61\n",
       "2000-03-14    90.08\n",
       "2000-03-15    82.31\n",
       "2000-03-16    60.98\n",
       "2000-03-17    70.73\n",
       "2001-01-11    60.33\n",
       "2001-10-12    69.30\n",
       "2001-10-15    68.55\n",
       "Name: nine_day_gain, dtype: float64"
      ]
     },
     "execution_count": 28,
     "metadata": {},
     "output_type": "execute_result"
    }
   ],
   "source": [
    "#In which days did we observe that the price has increased of more than 60% within the 9 preceding trading sessions \n",
    "percent_gain_max"
   ]
  },
  {
   "cell_type": "markdown",
   "metadata": {},
   "source": [
    "## Question 5"
   ]
  },
  {
   "cell_type": "markdown",
   "metadata": {},
   "source": [
    "### What was the **worst** possible \"buy&sell\" operation? Find the two days x and y so that the % loss resulting from buying in x and selling in y (with y after x) is maximized. Your code should work for any data. \n",
    "#### *Hint:* Use method cummax() or method cummin(). *Cummax/Cummin* returns the maximum/minimum value encountered so far. Make sure to return the trading days x and y, as well as the % loss resulting from buying in x and selling in y.\n",
    "#### (Fill in blank for the buying and selling dates in Camino with the format 'buying-date/selling-date' (for example, 2001-01-01/2010-12-31)"
   ]
  },
  {
   "cell_type": "code",
   "execution_count": 29,
   "metadata": {
    "scrolled": true
   },
   "outputs": [],
   "source": [
    "cum_high = data.Close.cummax()"
   ]
  },
  {
   "cell_type": "code",
   "execution_count": 30,
   "metadata": {
    "scrolled": true
   },
   "outputs": [
    {
     "data": {
      "text/plain": [
       "Date\n",
       "1999-01-22     0.41\n",
       "1999-01-25     0.45\n",
       "1999-01-26     0.45\n",
       "1999-01-27     0.45\n",
       "1999-01-28     0.45\n",
       "              ...  \n",
       "2021-10-07   228.43\n",
       "2021-10-08   228.43\n",
       "2021-10-11   228.43\n",
       "2021-10-12   228.43\n",
       "2021-10-13   228.43\n",
       "Name: Close, Length: 5720, dtype: float64"
      ]
     },
     "execution_count": 30,
     "metadata": {},
     "output_type": "execute_result"
    }
   ],
   "source": [
    "cum_high #buy price"
   ]
  },
  {
   "cell_type": "code",
   "execution_count": 31,
   "metadata": {},
   "outputs": [],
   "source": [
    "data['previous_high'] = data.Close.cummax()"
   ]
  },
  {
   "cell_type": "code",
   "execution_count": 32,
   "metadata": {},
   "outputs": [
    {
     "data": {
      "text/html": [
       "<div>\n",
       "<style scoped>\n",
       "    .dataframe tbody tr th:only-of-type {\n",
       "        vertical-align: middle;\n",
       "    }\n",
       "\n",
       "    .dataframe tbody tr th {\n",
       "        vertical-align: top;\n",
       "    }\n",
       "\n",
       "    .dataframe thead th {\n",
       "        text-align: right;\n",
       "    }\n",
       "</style>\n",
       "<table border=\"1\" class=\"dataframe\">\n",
       "  <thead>\n",
       "    <tr style=\"text-align: right;\">\n",
       "      <th></th>\n",
       "      <th>Open</th>\n",
       "      <th>High</th>\n",
       "      <th>Low</th>\n",
       "      <th>Close</th>\n",
       "      <th>Adj Close</th>\n",
       "      <th>Volume</th>\n",
       "      <th>previous_close</th>\n",
       "      <th>percent_change</th>\n",
       "      <th>sale_difference</th>\n",
       "      <th>buying_price</th>\n",
       "      <th>nine_day_gain</th>\n",
       "      <th>previous_high</th>\n",
       "    </tr>\n",
       "    <tr>\n",
       "      <th>Date</th>\n",
       "      <th></th>\n",
       "      <th></th>\n",
       "      <th></th>\n",
       "      <th></th>\n",
       "      <th></th>\n",
       "      <th></th>\n",
       "      <th></th>\n",
       "      <th></th>\n",
       "      <th></th>\n",
       "      <th></th>\n",
       "      <th></th>\n",
       "      <th></th>\n",
       "    </tr>\n",
       "  </thead>\n",
       "  <tbody>\n",
       "    <tr>\n",
       "      <th>1999-01-22</th>\n",
       "      <td>0.44</td>\n",
       "      <td>0.49</td>\n",
       "      <td>0.39</td>\n",
       "      <td>0.41</td>\n",
       "      <td>0.38</td>\n",
       "      <td>271468800</td>\n",
       "      <td>NaN</td>\n",
       "      <td>NaN</td>\n",
       "      <td>NaN</td>\n",
       "      <td>NaN</td>\n",
       "      <td>NaN</td>\n",
       "      <td>0.41</td>\n",
       "    </tr>\n",
       "    <tr>\n",
       "      <th>1999-01-25</th>\n",
       "      <td>0.44</td>\n",
       "      <td>0.46</td>\n",
       "      <td>0.41</td>\n",
       "      <td>0.45</td>\n",
       "      <td>0.42</td>\n",
       "      <td>51048000</td>\n",
       "      <td>0.41</td>\n",
       "      <td>10.48</td>\n",
       "      <td>NaN</td>\n",
       "      <td>NaN</td>\n",
       "      <td>NaN</td>\n",
       "      <td>0.45</td>\n",
       "    </tr>\n",
       "    <tr>\n",
       "      <th>1999-01-26</th>\n",
       "      <td>0.46</td>\n",
       "      <td>0.47</td>\n",
       "      <td>0.41</td>\n",
       "      <td>0.42</td>\n",
       "      <td>0.38</td>\n",
       "      <td>34320000</td>\n",
       "      <td>0.45</td>\n",
       "      <td>-7.76</td>\n",
       "      <td>0.01</td>\n",
       "      <td>NaN</td>\n",
       "      <td>NaN</td>\n",
       "      <td>0.45</td>\n",
       "    </tr>\n",
       "    <tr>\n",
       "      <th>1999-01-27</th>\n",
       "      <td>0.42</td>\n",
       "      <td>0.43</td>\n",
       "      <td>0.40</td>\n",
       "      <td>0.42</td>\n",
       "      <td>0.38</td>\n",
       "      <td>24436800</td>\n",
       "      <td>0.42</td>\n",
       "      <td>-0.31</td>\n",
       "      <td>-0.04</td>\n",
       "      <td>NaN</td>\n",
       "      <td>NaN</td>\n",
       "      <td>0.45</td>\n",
       "    </tr>\n",
       "    <tr>\n",
       "      <th>1999-01-28</th>\n",
       "      <td>0.42</td>\n",
       "      <td>0.42</td>\n",
       "      <td>0.41</td>\n",
       "      <td>0.42</td>\n",
       "      <td>0.38</td>\n",
       "      <td>22752000</td>\n",
       "      <td>0.42</td>\n",
       "      <td>-0.31</td>\n",
       "      <td>-0.00</td>\n",
       "      <td>NaN</td>\n",
       "      <td>NaN</td>\n",
       "      <td>0.45</td>\n",
       "    </tr>\n",
       "    <tr>\n",
       "      <th>...</th>\n",
       "      <td>...</td>\n",
       "      <td>...</td>\n",
       "      <td>...</td>\n",
       "      <td>...</td>\n",
       "      <td>...</td>\n",
       "      <td>...</td>\n",
       "      <td>...</td>\n",
       "      <td>...</td>\n",
       "      <td>...</td>\n",
       "      <td>...</td>\n",
       "      <td>...</td>\n",
       "      <td>...</td>\n",
       "    </tr>\n",
       "    <tr>\n",
       "      <th>2021-10-07</th>\n",
       "      <td>210.92</td>\n",
       "      <td>213.22</td>\n",
       "      <td>209.72</td>\n",
       "      <td>210.75</td>\n",
       "      <td>210.75</td>\n",
       "      <td>25691900</td>\n",
       "      <td>207.00</td>\n",
       "      <td>1.81</td>\n",
       "      <td>6.24</td>\n",
       "      <td>197.32</td>\n",
       "      <td>6.81</td>\n",
       "      <td>228.43</td>\n",
       "    </tr>\n",
       "    <tr>\n",
       "      <th>2021-10-08</th>\n",
       "      <td>211.01</td>\n",
       "      <td>212.06</td>\n",
       "      <td>207.75</td>\n",
       "      <td>208.31</td>\n",
       "      <td>208.31</td>\n",
       "      <td>15102500</td>\n",
       "      <td>210.75</td>\n",
       "      <td>-1.16</td>\n",
       "      <td>1.31</td>\n",
       "      <td>197.32</td>\n",
       "      <td>5.57</td>\n",
       "      <td>228.43</td>\n",
       "    </tr>\n",
       "    <tr>\n",
       "      <th>2021-10-11</th>\n",
       "      <td>205.75</td>\n",
       "      <td>210.63</td>\n",
       "      <td>205.11</td>\n",
       "      <td>206.95</td>\n",
       "      <td>206.95</td>\n",
       "      <td>16338800</td>\n",
       "      <td>208.31</td>\n",
       "      <td>-0.65</td>\n",
       "      <td>-3.80</td>\n",
       "      <td>197.32</td>\n",
       "      <td>4.88</td>\n",
       "      <td>228.43</td>\n",
       "    </tr>\n",
       "    <tr>\n",
       "      <th>2021-10-12</th>\n",
       "      <td>208.28</td>\n",
       "      <td>210.57</td>\n",
       "      <td>205.28</td>\n",
       "      <td>206.71</td>\n",
       "      <td>206.71</td>\n",
       "      <td>16213400</td>\n",
       "      <td>206.95</td>\n",
       "      <td>-0.12</td>\n",
       "      <td>-1.60</td>\n",
       "      <td>197.32</td>\n",
       "      <td>4.76</td>\n",
       "      <td>228.43</td>\n",
       "    </tr>\n",
       "    <tr>\n",
       "      <th>2021-10-13</th>\n",
       "      <td>209.18</td>\n",
       "      <td>209.90</td>\n",
       "      <td>207.13</td>\n",
       "      <td>209.39</td>\n",
       "      <td>209.39</td>\n",
       "      <td>18065200</td>\n",
       "      <td>206.71</td>\n",
       "      <td>1.30</td>\n",
       "      <td>2.44</td>\n",
       "      <td>197.32</td>\n",
       "      <td>6.12</td>\n",
       "      <td>228.43</td>\n",
       "    </tr>\n",
       "  </tbody>\n",
       "</table>\n",
       "<p>5720 rows × 12 columns</p>\n",
       "</div>"
      ],
      "text/plain": [
       "             Open   High    Low  Close  Adj Close     Volume  previous_close  \\\n",
       "Date                                                                           \n",
       "1999-01-22   0.44   0.49   0.39   0.41       0.38  271468800             NaN   \n",
       "1999-01-25   0.44   0.46   0.41   0.45       0.42   51048000            0.41   \n",
       "1999-01-26   0.46   0.47   0.41   0.42       0.38   34320000            0.45   \n",
       "1999-01-27   0.42   0.43   0.40   0.42       0.38   24436800            0.42   \n",
       "1999-01-28   0.42   0.42   0.41   0.42       0.38   22752000            0.42   \n",
       "...           ...    ...    ...    ...        ...        ...             ...   \n",
       "2021-10-07 210.92 213.22 209.72 210.75     210.75   25691900          207.00   \n",
       "2021-10-08 211.01 212.06 207.75 208.31     208.31   15102500          210.75   \n",
       "2021-10-11 205.75 210.63 205.11 206.95     206.95   16338800          208.31   \n",
       "2021-10-12 208.28 210.57 205.28 206.71     206.71   16213400          206.95   \n",
       "2021-10-13 209.18 209.90 207.13 209.39     209.39   18065200          206.71   \n",
       "\n",
       "            percent_change  sale_difference  buying_price  nine_day_gain  \\\n",
       "Date                                                                       \n",
       "1999-01-22             NaN              NaN           NaN            NaN   \n",
       "1999-01-25           10.48              NaN           NaN            NaN   \n",
       "1999-01-26           -7.76             0.01           NaN            NaN   \n",
       "1999-01-27           -0.31            -0.04           NaN            NaN   \n",
       "1999-01-28           -0.31            -0.00           NaN            NaN   \n",
       "...                    ...              ...           ...            ...   \n",
       "2021-10-07            1.81             6.24        197.32           6.81   \n",
       "2021-10-08           -1.16             1.31        197.32           5.57   \n",
       "2021-10-11           -0.65            -3.80        197.32           4.88   \n",
       "2021-10-12           -0.12            -1.60        197.32           4.76   \n",
       "2021-10-13            1.30             2.44        197.32           6.12   \n",
       "\n",
       "            previous_high  \n",
       "Date                       \n",
       "1999-01-22           0.41  \n",
       "1999-01-25           0.45  \n",
       "1999-01-26           0.45  \n",
       "1999-01-27           0.45  \n",
       "1999-01-28           0.45  \n",
       "...                   ...  \n",
       "2021-10-07         228.43  \n",
       "2021-10-08         228.43  \n",
       "2021-10-11         228.43  \n",
       "2021-10-12         228.43  \n",
       "2021-10-13         228.43  \n",
       "\n",
       "[5720 rows x 12 columns]"
      ]
     },
     "execution_count": 32,
     "metadata": {},
     "output_type": "execute_result"
    }
   ],
   "source": [
    "data"
   ]
  },
  {
   "cell_type": "code",
   "execution_count": 33,
   "metadata": {},
   "outputs": [],
   "source": [
    "#calculating the worse loss\n",
    "data['worse_loss'] =  (data['Close'] - data['previous_high']) / data['previous_high']"
   ]
  },
  {
   "cell_type": "code",
   "execution_count": 34,
   "metadata": {},
   "outputs": [
    {
     "data": {
      "text/plain": [
       "Date\n",
       "2002-10-09   -0.90\n",
       "Name: worse_loss, dtype: float64"
      ]
     },
     "execution_count": 34,
     "metadata": {},
     "output_type": "execute_result"
    }
   ],
   "source": [
    "#Worse possible sell date and price\n",
    "data['worse_loss'].nsmallest(1) "
   ]
  },
  {
   "cell_type": "code",
   "execution_count": 35,
   "metadata": {
    "scrolled": true
   },
   "outputs": [
    {
     "data": {
      "text/html": [
       "<div>\n",
       "<style scoped>\n",
       "    .dataframe tbody tr th:only-of-type {\n",
       "        vertical-align: middle;\n",
       "    }\n",
       "\n",
       "    .dataframe tbody tr th {\n",
       "        vertical-align: top;\n",
       "    }\n",
       "\n",
       "    .dataframe thead th {\n",
       "        text-align: right;\n",
       "    }\n",
       "</style>\n",
       "<table border=\"1\" class=\"dataframe\">\n",
       "  <thead>\n",
       "    <tr style=\"text-align: right;\">\n",
       "      <th></th>\n",
       "      <th>Open</th>\n",
       "      <th>High</th>\n",
       "      <th>Low</th>\n",
       "      <th>Close</th>\n",
       "      <th>Adj Close</th>\n",
       "      <th>Volume</th>\n",
       "      <th>previous_close</th>\n",
       "      <th>percent_change</th>\n",
       "      <th>sale_difference</th>\n",
       "      <th>buying_price</th>\n",
       "      <th>nine_day_gain</th>\n",
       "      <th>previous_high</th>\n",
       "      <th>worse_loss</th>\n",
       "    </tr>\n",
       "    <tr>\n",
       "      <th>Date</th>\n",
       "      <th></th>\n",
       "      <th></th>\n",
       "      <th></th>\n",
       "      <th></th>\n",
       "      <th></th>\n",
       "      <th></th>\n",
       "      <th></th>\n",
       "      <th></th>\n",
       "      <th></th>\n",
       "      <th></th>\n",
       "      <th></th>\n",
       "      <th></th>\n",
       "      <th></th>\n",
       "    </tr>\n",
       "  </thead>\n",
       "  <tbody>\n",
       "    <tr>\n",
       "      <th>2002-10-09</th>\n",
       "      <td>0.62</td>\n",
       "      <td>0.66</td>\n",
       "      <td>0.60</td>\n",
       "      <td>0.61</td>\n",
       "      <td>0.56</td>\n",
       "      <td>57313200</td>\n",
       "      <td>0.63</td>\n",
       "      <td>-1.86</td>\n",
       "      <td>-0.03</td>\n",
       "      <td>0.61</td>\n",
       "      <td>0.00</td>\n",
       "      <td>5.98</td>\n",
       "      <td>-0.90</td>\n",
       "    </tr>\n",
       "  </tbody>\n",
       "</table>\n",
       "</div>"
      ],
      "text/plain": [
       "            Open  High  Low  Close  Adj Close    Volume  previous_close  \\\n",
       "Date                                                                      \n",
       "2002-10-09  0.62  0.66 0.60   0.61       0.56  57313200            0.63   \n",
       "\n",
       "            percent_change  sale_difference  buying_price  nine_day_gain  \\\n",
       "Date                                                                       \n",
       "2002-10-09           -1.86            -0.03          0.61           0.00   \n",
       "\n",
       "            previous_high  worse_loss  \n",
       "Date                                   \n",
       "2002-10-09           5.98       -0.90  "
      ]
     },
     "execution_count": 35,
     "metadata": {},
     "output_type": "execute_result"
    }
   ],
   "source": [
    "data[data.worse_loss == data.worse_loss.min()]"
   ]
  },
  {
   "cell_type": "code",
   "execution_count": 36,
   "metadata": {
    "scrolled": false
   },
   "outputs": [
    {
     "data": {
      "text/plain": [
       "Date\n",
       "2002-01-03   5.98\n",
       "Name: previous_high, dtype: float64"
      ]
     },
     "execution_count": 36,
     "metadata": {},
     "output_type": "execute_result"
    }
   ],
   "source": [
    "#working backwards to find the buy date\n",
    "#Worse possible buy date and price\n",
    "data.loc[:'2002-10-09','previous_high'].nlargest(1)"
   ]
  }
 ],
 "metadata": {
  "kernelspec": {
   "display_name": "Python 3 (ipykernel)",
   "language": "python",
   "name": "python3"
  },
  "language_info": {
   "codemirror_mode": {
    "name": "ipython",
    "version": 3
   },
   "file_extension": ".py",
   "mimetype": "text/x-python",
   "name": "python",
   "nbconvert_exporter": "python",
   "pygments_lexer": "ipython3",
   "version": "3.9.12"
  }
 },
 "nbformat": 4,
 "nbformat_minor": 1
}
